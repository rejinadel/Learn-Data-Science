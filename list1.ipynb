{
  "nbformat": 4,
  "nbformat_minor": 0,
  "metadata": {
    "colab": {
      "provenance": [],
      "authorship_tag": "ABX9TyP9NqC0aZfgmFrquswDfenS",
      "include_colab_link": true
    },
    "kernelspec": {
      "name": "python3",
      "display_name": "Python 3"
    },
    "language_info": {
      "name": "python"
    }
  },
  "cells": [
    {
      "cell_type": "markdown",
      "metadata": {
        "id": "view-in-github",
        "colab_type": "text"
      },
      "source": [
        "<a href=\"https://colab.research.google.com/github/rejinadel/Learn-Data-Science/blob/main/list1.ipynb\" target=\"_parent\"><img src=\"https://colab.research.google.com/assets/colab-badge.svg\" alt=\"Open In Colab\"/></a>"
      ]
    },
    {
      "cell_type": "code",
      "source": [
        "mylist = ['daniel','sofy','santi','binaya','sofy']\n",
        "mylist.count('sofy') #use of count\n",
        "mylist.sort()        #use of sort\n",
        "print(mylist)"
      ],
      "metadata": {
        "colab": {
          "base_uri": "https://localhost:8080/"
        },
        "id": "Cw-QFdk3mRh-",
        "outputId": "78a25ff6-29d0-46bb-8ebd-5a79e643efef"
      },
      "execution_count": 12,
      "outputs": [
        {
          "output_type": "stream",
          "name": "stdout",
          "text": [
            "['binaya', 'daniel', 'santi', 'sofy', 'sofy']\n"
          ]
        }
      ]
    }
  ]
}