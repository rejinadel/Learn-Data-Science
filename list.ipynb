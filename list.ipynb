{
  "nbformat": 4,
  "nbformat_minor": 0,
  "metadata": {
    "colab": {
      "provenance": [],
      "authorship_tag": "ABX9TyOWKcO3zyVkGYYEaclesDMF",
      "include_colab_link": true
    },
    "kernelspec": {
      "name": "python3",
      "display_name": "Python 3"
    },
    "language_info": {
      "name": "python"
    }
  },
  "cells": [
    {
      "cell_type": "markdown",
      "metadata": {
        "id": "view-in-github",
        "colab_type": "text"
      },
      "source": [
        "<a href=\"https://colab.research.google.com/github/rejinadel/Learn-Data-Science/blob/main/list.ipynb\" target=\"_parent\"><img src=\"https://colab.research.google.com/assets/colab-badge.svg\" alt=\"Open In Colab\"/></a>"
      ]
    },
    {
      "cell_type": "code",
      "execution_count": null,
      "metadata": {
        "id": "BpWarWrNiiGk"
      },
      "outputs": [],
      "source": []
    },
    {
      "cell_type": "code",
      "source": [
        "a = [\"pen\",\"eraser\",\"copy\"] #my list\n",
        "a\n",
        "a[0]='ink'\n",
        "a\n",
        "a.append('sharpener') #use of append\n",
        "a\n",
        "b = [\"butter\",\"cheese\",\"icecream\"]\n",
        "c = a+b #adding two list\n",
        "c\n",
        "c.insert(1,\"cute\") #inserting items as oer my wish\n",
        "c"
      ],
      "metadata": {
        "colab": {
          "base_uri": "https://localhost:8080/"
        },
        "id": "IXlgVVckimBY",
        "outputId": "e2597917-a3e0-4550-a366-da4ec743da35"
      },
      "execution_count": 10,
      "outputs": [
        {
          "output_type": "execute_result",
          "data": {
            "text/plain": [
              "['ink', 'cute', 'eraser', 'copy', 'sharpener', 'butter', 'cheese', 'icecream']"
            ]
          },
          "metadata": {},
          "execution_count": 10
        }
      ]
    }
  ]
}