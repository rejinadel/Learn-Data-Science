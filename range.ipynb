{
  "nbformat": 4,
  "nbformat_minor": 0,
  "metadata": {
    "colab": {
      "provenance": [],
      "authorship_tag": "ABX9TyMmLd2S3BDF4ZpOQsdwjEZL",
      "include_colab_link": true
    },
    "kernelspec": {
      "name": "python3",
      "display_name": "Python 3"
    },
    "language_info": {
      "name": "python"
    }
  },
  "cells": [
    {
      "cell_type": "markdown",
      "metadata": {
        "id": "view-in-github",
        "colab_type": "text"
      },
      "source": [
        "<a href=\"https://colab.research.google.com/github/rejinadel/Learn-Data-Science/blob/main/range.ipynb\" target=\"_parent\"><img src=\"https://colab.research.google.com/assets/colab-badge.svg\" alt=\"Open In Colab\"/></a>"
      ]
    },
    {
      "cell_type": "markdown",
      "source": [
        "range"
      ],
      "metadata": {
        "id": "PAHP1XjzxHPx"
      }
    },
    {
      "cell_type": "code",
      "source": [
        "x = 1\n",
        "for x in range(1,10,2):\n",
        "  x = x*1\n",
        "  print(\"multiplication of first 10 natural number :\", x)\n"
      ],
      "metadata": {
        "colab": {
          "base_uri": "https://localhost:8080/"
        },
        "id": "bo4ZqXhhxKIC",
        "outputId": "1ab3080e-bfc5-4b0a-fd0c-3cf4b0c23785"
      },
      "execution_count": 54,
      "outputs": [
        {
          "output_type": "stream",
          "name": "stdout",
          "text": [
            "multiplication of first 10 natural number : 1\n",
            "multiplication of first 10 natural number : 3\n",
            "multiplication of first 10 natural number : 5\n",
            "multiplication of first 10 natural number : 7\n",
            "multiplication of first 10 natural number : 9\n"
          ]
        }
      ]
    }
  ]
}