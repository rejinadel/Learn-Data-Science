{
  "nbformat": 4,
  "nbformat_minor": 0,
  "metadata": {
    "colab": {
      "provenance": [],
      "authorship_tag": "ABX9TyOHmGZW1dmkakFdwdjng2ZX",
      "include_colab_link": true
    },
    "kernelspec": {
      "name": "python3",
      "display_name": "Python 3"
    },
    "language_info": {
      "name": "python"
    }
  },
  "cells": [
    {
      "cell_type": "markdown",
      "metadata": {
        "id": "view-in-github",
        "colab_type": "text"
      },
      "source": [
        "<a href=\"https://colab.research.google.com/github/rejinadel/Learn-Data-Science/blob/main/celcius_to_fahrenheit.ipynb\" target=\"_parent\"><img src=\"https://colab.research.google.com/assets/colab-badge.svg\" alt=\"Open In Colab\"/></a>"
      ]
    },
    {
      "cell_type": "markdown",
      "source": [
        "Program to convert celcius to fahrenheit using function"
      ],
      "metadata": {
        "id": "oG0T_S4c_yid"
      }
    },
    {
      "cell_type": "code",
      "source": [
        "def celcius_to_fahrenheit(ctf):\n",
        "  fahrenheit = x*1.8+32\n",
        "  print(fahrenheit)\n",
        "celcius_to_fahrenheit(50)"
      ],
      "metadata": {
        "colab": {
          "base_uri": "https://localhost:8080/"
        },
        "id": "3UqD0HiY_1cO",
        "outputId": "e6e9d2ed-93aa-4d4c-a7e0-0992a5ea9c10"
      },
      "execution_count": 30,
      "outputs": [
        {
          "output_type": "stream",
          "name": "stdout",
          "text": [
            "43.199600000000004\n"
          ]
        }
      ]
    }
  ]
}