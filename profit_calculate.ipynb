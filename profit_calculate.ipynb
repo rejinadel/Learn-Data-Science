{
  "nbformat": 4,
  "nbformat_minor": 0,
  "metadata": {
    "colab": {
      "provenance": [],
      "authorship_tag": "ABX9TyNY/jAJdFuT9o1TvBi7y7XS",
      "include_colab_link": true
    },
    "kernelspec": {
      "name": "python3",
      "display_name": "Python 3"
    },
    "language_info": {
      "name": "python"
    }
  },
  "cells": [
    {
      "cell_type": "markdown",
      "metadata": {
        "id": "view-in-github",
        "colab_type": "text"
      },
      "source": [
        "<a href=\"https://colab.research.google.com/github/rejinadel/Learn-Data-Science/blob/main/profit_calculate.ipynb\" target=\"_parent\"><img src=\"https://colab.research.google.com/assets/colab-badge.svg\" alt=\"Open In Colab\"/></a>"
      ]
    },
    {
      "cell_type": "markdown",
      "source": [
        "Program to calculate profit using function"
      ],
      "metadata": {
        "id": "oG0T_S4c_yid"
      }
    },
    {
      "cell_type": "code",
      "source": [
        "sp = 58\n",
        "cp = 57\n",
        "def profit_calculate(p):\n",
        "  profit = sp - cp\n",
        "  print(profit)\n",
        "profit_calculate(sp-cp)\n",
        "\n"
      ],
      "metadata": {
        "colab": {
          "base_uri": "https://localhost:8080/"
        },
        "id": "3UqD0HiY_1cO",
        "outputId": "383c9db3-10bf-425c-cfd7-ac2298317bad"
      },
      "execution_count": 37,
      "outputs": [
        {
          "output_type": "stream",
          "name": "stdout",
          "text": [
            "1\n"
          ]
        }
      ]
    }
  ]
}