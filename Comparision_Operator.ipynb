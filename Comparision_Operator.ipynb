{
  "nbformat": 4,
  "nbformat_minor": 0,
  "metadata": {
    "colab": {
      "provenance": [],
      "authorship_tag": "ABX9TyM0gau3JHIoyYwsvAWiUuOd",
      "include_colab_link": true
    },
    "kernelspec": {
      "name": "python3",
      "display_name": "Python 3"
    },
    "language_info": {
      "name": "python"
    }
  },
  "cells": [
    {
      "cell_type": "markdown",
      "metadata": {
        "id": "view-in-github",
        "colab_type": "text"
      },
      "source": [
        "<a href=\"https://colab.research.google.com/github/rejinadel/Learn-Data-Science/blob/main/Comparision_Operator.ipynb\" target=\"_parent\"><img src=\"https://colab.research.google.com/assets/colab-badge.svg\" alt=\"Open In Colab\"/></a>"
      ]
    },
    {
      "cell_type": "code",
      "execution_count": null,
      "metadata": {
        "id": "5wJQ4LBq7WKe"
      },
      "outputs": [],
      "source": [
        "#Operators\n",
        "#Comparision operator\n",
        "# We use comparision operators in order to compare the two assigned values which gives us boolean \n",
        "# results like either it is true or false.For example:\n",
        "# Numeric:\n",
        "2 > 3 #shows false\n",
        "3 > 2 #shows true\n",
        "\n",
        "#Examples using different comparision operators\n",
        "x = 70\n",
        "y = 30\n",
        "print(x>y) #greater than\n",
        "print(x<y) #less than\n",
        "print(x==y) #equal to\n",
        "print(x!=y) #Not equal to\n",
        "print(x>=y) #greater than or equal to\n",
        "print(x<=y) #less than or equal to "
      ]
    }
  ]
}