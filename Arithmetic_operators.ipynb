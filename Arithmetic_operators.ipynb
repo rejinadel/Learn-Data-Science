{
  "nbformat": 4,
  "nbformat_minor": 0,
  "metadata": {
    "colab": {
      "provenance": [],
      "authorship_tag": "ABX9TyN68NRKnax+Mcnmk7cseyB5",
      "include_colab_link": true
    },
    "kernelspec": {
      "name": "python3",
      "display_name": "Python 3"
    },
    "language_info": {
      "name": "python"
    }
  },
  "cells": [
    {
      "cell_type": "markdown",
      "metadata": {
        "id": "view-in-github",
        "colab_type": "text"
      },
      "source": [
        "<a href=\"https://colab.research.google.com/github/rejinadel/Learn-Data-Science/blob/main/Arithmetic_operators.ipynb\" target=\"_parent\"><img src=\"https://colab.research.google.com/assets/colab-badge.svg\" alt=\"Open In Colab\"/></a>"
      ]
    },
    {
      "cell_type": "code",
      "execution_count": null,
      "metadata": {
        "id": "oV-C-TfJsB76"
      },
      "outputs": [],
      "source": [
        "# #Assigning value on \"a\" ,\"b\"and \"c\" And adding both the values and variable \"c\" will show the result .\n",
        "a = 5\n",
        "b = 6\n",
        "c = a + b\n",
        "print(c)"
      ]
    },
    {
      "cell_type": "code",
      "source": [
        "#Operators\n",
        "#Arithmetic operators\n",
        "#Arithmetic operators includes basic addition, Subtraction,multiplication,\n",
        "# modulus, floor division, and exponent.For example:\n",
        "x = 256\n",
        "y = 10\n",
        "print(x+y)  #addition\n",
        "print(x-y)  #Subtraction\n",
        "print(x*y)  #Multiplication\n",
        "print(x%y)  #modulus\n",
        "print(x/y)  #floor division"
      ],
      "metadata": {
        "id": "PcXwIqU0wDeW"
      },
      "execution_count": null,
      "outputs": []
    }
  ]
}