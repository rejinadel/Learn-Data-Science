{
  "nbformat": 4,
  "nbformat_minor": 0,
  "metadata": {
    "colab": {
      "provenance": [],
      "authorship_tag": "ABX9TyMEgAe6tVQnSgg0u7R/SNDb",
      "include_colab_link": true
    },
    "kernelspec": {
      "name": "python3",
      "display_name": "Python 3"
    },
    "language_info": {
      "name": "python"
    }
  },
  "cells": [
    {
      "cell_type": "markdown",
      "metadata": {
        "id": "view-in-github",
        "colab_type": "text"
      },
      "source": [
        "<a href=\"https://colab.research.google.com/github/rejinadel/Learn-Data-Science/blob/main/dictionary.ipynb\" target=\"_parent\"><img src=\"https://colab.research.google.com/assets/colab-badge.svg\" alt=\"Open In Colab\"/></a>"
      ]
    },
    {
      "cell_type": "markdown",
      "source": [
        "Dictionary"
      ],
      "metadata": {
        "id": "l_g48e6otrM2"
      }
    },
    {
      "cell_type": "code",
      "source": [
        "d = {\"rez\":23,\"rezna\":21, \"rejina\":20} #items in dict\n",
        "d\n",
        "d[\"rez\"]\n",
        "print(d[\"rejina\"])\n",
        "d[\"rejina\"]= 25 #changing value in the dict\n",
        "print(d[\"rejina\"])"
      ],
      "metadata": {
        "colab": {
          "base_uri": "https://localhost:8080/"
        },
        "id": "7vMB69I3ttQI",
        "outputId": "c9624f5b-0b4e-46f1-b419-1ced234944af"
      },
      "execution_count": 25,
      "outputs": [
        {
          "output_type": "stream",
          "name": "stdout",
          "text": [
            "20\n",
            "25\n"
          ]
        }
      ]
    }
  ]
}